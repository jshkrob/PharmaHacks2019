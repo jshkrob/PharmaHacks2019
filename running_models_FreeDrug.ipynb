{
 "cells": [
  {
   "cell_type": "code",
   "execution_count": 1,
   "metadata": {},
   "outputs": [],
   "source": [
    "# standard library dependencies\n",
    "from collections import Counter\n",
    "\n",
    "# external dependencies\n",
    "import matplotlib.pyplot as plt\n",
    "import seaborn as sns\n",
    "import numpy as np\n",
    "import pandas as pd \n",
    "\n",
    "# local dependencies\n",
    "from classification_preparation import (\n",
    "    load_dataset_with_engineered_features,\n",
    "    return_data_to_predict_at_month,\n",
    "    prepare_to_predict_feature,\n",
    "    split_into_training_validating_testing\n",
    ")\n",
    "\n",
    "from ensemble_classifiers import (\n",
    "    GB_classifier,\n",
    "    RF_classifier,\n",
    "    NB_classifier\n",
    ")\n",
    "\n",
    "from create_violin_plots import create_violin_plots_model_acc"
   ]
  },
  {
   "cell_type": "code",
   "execution_count": 2,
   "metadata": {},
   "outputs": [
    {
     "name": "stdout",
     "output_type": "stream",
     "text": [
      "\n",
      "cleaned_01-2018.txt: (6493, 26)\n",
      "\n",
      "cleaned_01-2019.txt: (9707, 26)\n",
      "\n",
      "cleaned_02-2018.txt: (6733, 26)\n",
      "\n",
      "cleaned_02-2019.txt: (9923, 26)\n",
      "\n",
      "cleaned_03-2018.txt: (7015, 26)\n",
      "\n",
      "cleaned_04-2018.txt: (7328, 26)\n",
      "\n",
      "cleaned_05-2018.txt: (7678, 26)\n",
      "\n",
      "cleaned_06-2018.txt: (7944, 26)\n",
      "\n",
      "cleaned_07-2018.txt: (8209, 26)\n",
      "\n",
      "cleaned_08-2018.txt: (8443, 26)\n",
      "\n",
      "cleaned_09-2018.txt: (8652, 26)\n",
      "\n",
      "cleaned_10-2018.txt: (8940, 26)\n",
      "\n",
      "cleaned_11-2018.txt: (9218, 26)\n",
      "\n",
      "cleaned_12-2018.txt: (9440, 26)\n",
      "\n",
      "cleaned_2019-03.txt: (10171, 26)\n",
      "\n",
      "cleaned_2019-04.txt: (10518, 26)\n",
      "\n",
      "cleaned_2019-05.txt: (10829, 26)\n",
      "\n",
      "cleaned_2019-06.txt: (11124, 26)\n",
      "\n",
      "cleaned_2019-07.txt: (11388, 26)\n",
      "\n",
      "cleaned_2019-08.txt: (11668, 26)\n",
      "\n",
      "cleaned_2019-09.txt: (11986, 26)\n",
      "\n",
      "finished compiling 21 datasets\n",
      "loaded 21 datasets; adding engineered features\n",
      "added engineered features to all datasets\n"
     ]
    }
   ],
   "source": [
    "all_data = load_dataset_with_engineered_features(\n",
    "    \"data\",\n",
    "    must_have_substring=\"cleaned_\",\n",
    "    verbose=True\n",
    ")"
   ]
  },
  {
   "cell_type": "code",
   "execution_count": 3,
   "metadata": {},
   "outputs": [
    {
     "name": "stdout",
     "output_type": "stream",
     "text": [
      "               DR Speciality  Payment Method #5  Payment Method #4  \\\n",
      "Patient ID                                                           \n",
      "Patient_12146            0.0                0.0                0.0   \n",
      "Patient_12147            0.0                1.0                0.0   \n",
      "Patient_12148            0.0                0.0                0.0   \n",
      "Patient_12149            0.0                0.0                0.0   \n",
      "Patient_12150            0.0                0.0                0.0   \n",
      "\n",
      "               DR PROVINCE  Dosage  DR ID  Payment Method #1  Status Group  \\\n",
      "Patient ID                                                                   \n",
      "Patient_12146          0.0     0.0    0.0                0.0           0.0   \n",
      "Patient_12147          4.0     0.0  835.0                0.0           3.0   \n",
      "Patient_12148          4.0     0.0  429.0                0.0           2.0   \n",
      "Patient_12149          0.0     0.0    0.0                0.0           0.0   \n",
      "Patient_12150          0.0     0.0    0.0                0.0           0.0   \n",
      "\n",
      "               Status Description  Frequency  ...  Day Enrollment Completed  \\\n",
      "Patient ID                                    ...                             \n",
      "Patient_12146                 0.0        0.0  ...                         0   \n",
      "Patient_12147                 6.0        0.0  ...                     43848   \n",
      "Patient_12148                19.0        0.0  ...                     43848   \n",
      "Patient_12149                 0.0        0.0  ...                         0   \n",
      "Patient_12150                 0.0        0.0  ...                         0   \n",
      "\n",
      "               State Change Day  On Drug Start Day  Last On Drug Day  \\\n",
      "Patient ID                                                             \n",
      "Patient_12146                 0                  0                 0   \n",
      "Patient_12147             43848                  0                 0   \n",
      "Patient_12148             43848                  0                 0   \n",
      "Patient_12149                 0                  0                 0   \n",
      "Patient_12150                 0                  0                 0   \n",
      "\n",
      "               Re-Engagement Day  Re-Engagement On Drug Start Day  \\\n",
      "Patient ID                                                          \n",
      "Patient_12146                  0                                0   \n",
      "Patient_12147                  0                                0   \n",
      "Patient_12148                  0                                0   \n",
      "Patient_12149                  0                                0   \n",
      "Patient_12150                  0                                0   \n",
      "\n",
      "               Enrollment Time  On Drug Time  # of Payment Methods  \\\n",
      "Patient ID                                                           \n",
      "Patient_12146                0             0                   0.0   \n",
      "Patient_12147                0             0                   1.0   \n",
      "Patient_12148                0             0                   1.0   \n",
      "Patient_12149                0             0                   0.0   \n",
      "Patient_12150                0             0                   0.0   \n",
      "\n",
      "               DosageFrequencyIndex  \n",
      "Patient ID                           \n",
      "Patient_12146                   0.0  \n",
      "Patient_12147                   0.0  \n",
      "Patient_12148                   0.0  \n",
      "Patient_12149                   0.0  \n",
      "Patient_12150                   0.0  \n",
      "\n",
      "[5 rows x 30 columns]\n"
     ]
    }
   ],
   "source": [
    "print(all_data[\"cleaned_2019-09.txt\"].tail())"
   ]
  },
  {
   "cell_type": "code",
   "execution_count": 4,
   "metadata": {},
   "outputs": [
    {
     "name": "stderr",
     "output_type": "stream",
     "text": [
      "100%|████████████████████████████████████████████████████████| 18/18 [00:01<00:00, 12.82it/s]\n"
     ]
    },
    {
     "name": "stdout",
     "output_type": "stream",
     "text": [
      "11388 useable patients\n"
     ]
    }
   ],
   "source": [
    "useable_data = return_data_to_predict_at_month(\n",
    "    all_data,\n",
    "    \"cleaned_2019-08.txt\",\n",
    "    verbose=True\n",
    ")"
   ]
  },
  {
   "cell_type": "code",
   "execution_count": 5,
   "metadata": {},
   "outputs": [
    {
     "data": {
      "text/plain": [
       "Index(['delta_DR Speciality', 'delta_Payment Method #5',\n",
       "       'delta_Payment Method #4', 'delta_DR PROVINCE', 'delta_Dosage',\n",
       "       'delta_DR ID', 'delta_Payment Method #1', 'delta_Status Group',\n",
       "       'delta_Status Description', 'delta_Frequency', 'delta_Diagnosis ID',\n",
       "       'delta_Payment Method #3', 'delta_Biologic Line of Therapy',\n",
       "       'delta_Status', 'delta_Gender ID', 'delta_Payment Method #2',\n",
       "       'delta_Patient Receiving Free Drug', 'delta_Case State',\n",
       "       'delta_Age Range', 'delta_Day Enrollment Received',\n",
       "       'delta_Day Enrollment Completed', 'delta_State Change Day',\n",
       "       'delta_On Drug Start Day', 'delta_Last On Drug Day',\n",
       "       'delta_Re-Engagement Day', 'delta_Re-Engagement On Drug Start Day',\n",
       "       'delta_Enrollment Time', 'delta_On Drug Time',\n",
       "       'delta_# of Payment Methods', 'delta_DosageFrequencyIndex',\n",
       "       'delta_Number of Months', 'DR Speciality', 'Payment Method #5',\n",
       "       'Payment Method #4', 'DR PROVINCE', 'Dosage', 'DR ID',\n",
       "       'Payment Method #1', 'Status Group', 'Status Description', 'Frequency',\n",
       "       'Diagnosis ID', 'Payment Method #3', 'Biologic Line of Therapy',\n",
       "       'Status', 'Gender ID', 'Payment Method #2',\n",
       "       'Patient Receiving Free Drug', 'Case State', 'Age Range',\n",
       "       'Day Enrollment Received', 'Day Enrollment Completed',\n",
       "       'State Change Day', 'On Drug Start Day', 'Last On Drug Day',\n",
       "       'Re-Engagement Day', 'Re-Engagement On Drug Start Day',\n",
       "       'Enrollment Time', 'On Drug Time', '# of Payment Methods',\n",
       "       'DosageFrequencyIndex'],\n",
       "      dtype='object')"
      ]
     },
     "execution_count": 5,
     "metadata": {},
     "output_type": "execute_result"
    }
   ],
   "source": [
    "useable_data.columns"
   ]
  },
  {
   "cell_type": "code",
   "execution_count": 6,
   "metadata": {},
   "outputs": [],
   "source": [
    "features_df, feature_to_predict = prepare_to_predict_feature(\n",
    "    \"Patient Receiving Free Drug\",\n",
    "    useable_data,\n",
    "    verbose=True\n",
    ")\n",
    "labels = list(set(feature_to_predict.values.tolist()))"
   ]
  },
  {
   "cell_type": "code",
   "execution_count": 7,
   "metadata": {},
   "outputs": [
    {
     "name": "stdout",
     "output_type": "stream",
     "text": [
      "dimensions of testing dataset: (1709, 60), (1709,)\n",
      "dimensions of validating dataset: (1936, 60), (1936,)\n",
      "dimensions of training dataset: (7743, 60), (7743,)\n",
      "dimensions of original dataset: (11388, 60)\n"
     ]
    }
   ],
   "source": [
    "all_splits_dict = split_into_training_validating_testing(\n",
    "    features_df,\n",
    "    feature_to_predict,\n",
    "    verbose=True\n",
    ")\n",
    "\n",
    "# keys of dictionaries in all_splits_dict\n",
    "#\"X train\",\n",
    "#\"X validate\", \n",
    "#\"X test\", \n",
    "#\"y train\", \n",
    "#\"y validate\", \n",
    "#\"y test\""
   ]
  },
  {
   "cell_type": "code",
   "execution_count": 8,
   "metadata": {},
   "outputs": [],
   "source": [
    "for splits_dict in all_splits_dict:\n",
    "    # result is a dict of:\n",
    "    # \"Model Confusion Matrix\"\n",
    "    # \"Model Accuracy\"\n",
    "    # \"Baseline Confusion Matrix\"\n",
    "    # \"Baseline Accuracy\"\n",
    "    # \"Classifier\"\n",
    "    result = RF_classifier(\n",
    "        splits_dict[\"X train\"],\n",
    "        splits_dict[\"y train\"],\n",
    "        splits_dict[\"X test\"],\n",
    "        splits_dict[\"y test\"],\n",
    "        labels,\n",
    "        return_baseline_cm = True\n",
    "    )\n"
   ]
  },
  {
   "cell_type": "code",
   "execution_count": 9,
   "metadata": {},
   "outputs": [
    {
     "name": "stdout",
     "output_type": "stream",
     "text": [
      "0.8221181977764774 0.7226448215330603\n",
      "\n",
      "\n",
      "[[1405    0]\n",
      " [ 304    0]]\n",
      "\n",
      "\n",
      "[[1176  229]\n",
      " [ 245   59]]\n"
     ]
    }
   ],
   "source": [
    "print(result[\"Model Accuracy\"], result[\"Baseline Accuracy\"])\n",
    "print(\"\\n\")\n",
    "print(result[\"Model Confusion Matrix\"])\n",
    "print(\"\\n\")\n",
    "print(result[\"Baseline Confusion Matrix\"])\n"
   ]
  },
  {
   "cell_type": "code",
   "execution_count": 10,
   "metadata": {},
   "outputs": [],
   "source": [
    "all_splits_dict = split_into_training_validating_testing(\n",
    "    features_df,\n",
    "    feature_to_predict,\n",
    "    verbose=True,\n",
    "    use_strat_splits=True\n",
    ")\n",
    "\n",
    "# keys of dictionaries in all_splits_dict\n",
    "#\"X train\",\n",
    "#\"X validate\", \n",
    "#\"X test\", \n",
    "#\"y train\", \n",
    "#\"y validate\", \n",
    "#\"y test\""
   ]
  },
  {
   "cell_type": "code",
   "execution_count": 11,
   "metadata": {},
   "outputs": [
    {
     "name": "stdout",
     "output_type": "stream",
     "text": [
      "========RF========\n",
      "0.8221181977764774 0.7249853715623171\n",
      "0.8221181977764774 0.722059684025746\n",
      "0.8227033352837917 0.7214745465184318\n",
      "0.8221181977764774 0.7144528964306612\n",
      "0.8227033352837917 0.713867758923347\n",
      "0.8221181977764774 0.7132826214160327\n",
      "0.8221181977764774 0.7009947337624342\n",
      "0.8221181977764774 0.7080163838502048\n",
      "0.8221181977764774 0.7144528964306612\n",
      "0.8215330602691633 0.7039204212990052\n",
      "[[1.4049e+03 1.0000e-01]\n",
      " [3.0380e+02 2.0000e-01]]\n",
      "========GB========\n",
      "0.8736102984201287 0.7015798712697484\n",
      "0.8724400234055003 0.7109420713867759\n",
      "0.874195435927443 0.7267407840842598\n",
      "0.8671737858396723 0.708601521357519\n",
      "0.8660035108250439 0.695143358689292\n",
      "0.863662960795787 0.716793446459918\n",
      "0.8712697483908719 0.7267407840842598\n",
      "0.8747805734347571 0.6998244587478057\n",
      "0.8619075482738443 0.7103569338794616\n",
      "0.8736102984201287 0.716793446459918\n",
      "[[1338.    67. ]\n",
      " [ 155.4  148.6]]\n",
      "========NB========\n",
      "0.8215330602691633 0.7214745465184318\n",
      "0.8168519602106495 0.7156231714452896\n",
      "0.8174370977179637 0.7255705090696314\n",
      "0.8168519602106495 0.7208894090111176\n",
      "0.815681685196021 0.7050906963136337\n",
      "0.8045640725570509 0.7068461088355764\n",
      "0.8215330602691633 0.7021650087770626\n",
      "0.8092451726155646 0.7027501462843768\n",
      "0.8110005851375073 0.7121123464014043\n",
      "0.8121708601521358 0.7255705090696314\n",
      "[[1357.1   47.9]\n",
      " [ 268.8   35.2]]\n"
     ]
    }
   ],
   "source": [
    "num_classes = len(np.unique(feature_to_predict))\n",
    "RF_model_accs, RF_model_cm = [], np.zeros((num_classes,num_classes))\n",
    "GB_model_accs, GB_model_cm = [], np.zeros((num_classes,num_classes))\n",
    "NB_model_accs, NB_model_cm = [], np.zeros((num_classes,num_classes))\n",
    "baseline_accs = []\n",
    "baseline_model_cm = np.zeros((num_classes,num_classes))\n",
    "\n",
    "RF_outcomes = pd.DataFrame(np.zeros((10,2)), columns=[\"Model Acc\", \"Baseline Acc\"])\n",
    "GB_outcomes = pd.DataFrame(np.zeros((10,2)), columns=[\"Model Acc\", \"Baseline Acc\"])\n",
    "NB_outcomes = pd.DataFrame(np.zeros((10,2)), columns=[\"Model Acc\", \"Baseline Acc\"])\n",
    "\n",
    "\n",
    "for model, acc_list, avg_cm, name, df in zip(\n",
    "    [RF_classifier, GB_classifier, NB_classifier],\n",
    "    [RF_model_accs, GB_model_accs, NB_model_accs],\n",
    "    [RF_model_cm, GB_model_cm, NB_model_cm],\n",
    "    [\"RF\",\"GB\",\"NB\"],\n",
    "    [RF_outcomes, GB_outcomes, NB_outcomes]):\n",
    "    print(f\"========{name}========\")\n",
    "    for e, splits_dict in enumerate(all_splits_dict):\n",
    "        # result is a dict of:\n",
    "        # \"Model Confusion Matrix\"\n",
    "        # \"Model Accuracy\"\n",
    "        # \"Baseline Confusion Matrix\"\n",
    "        # \"Baseline Accuracy\"\n",
    "        # \"Classifier\"\n",
    "        result = model(\n",
    "            splits_dict[\"X train\"],\n",
    "            splits_dict[\"y train\"],\n",
    "            splits_dict[\"X test\"],\n",
    "            splits_dict[\"y test\"],\n",
    "            labels,\n",
    "            return_baseline_cm = True\n",
    "        )\n",
    "        print( result[\"Model Accuracy\"], result[\"Baseline Accuracy\"] )\n",
    "        acc_list.append( result[\"Model Accuracy\"] )\n",
    "        acc_list.append( result[\"Baseline Accuracy\"] )\n",
    "        df.loc[e, \"Model Acc\"] = result[\"Model Accuracy\"]\n",
    "        df.loc[e, \"Baseline Acc\"] = result[\"Baseline Accuracy\"]\n",
    "        #if e == 0:\n",
    "        #    avg_cm = (result[\"Model Confusion Matrix\"] / 10)\n",
    "        #else:\n",
    "            #pass\n",
    "        avg_cm += (result[\"Model Confusion Matrix\"] / 10)\n",
    "\n",
    "        #if baseline_model_cm is None:\n",
    "        #    baseline_model_cm = (result[\"Baseline Confusion Matrix\"] / 30)\n",
    "        #else: \n",
    "            #pass\n",
    "        baseline_accs.append(result[\"Baseline Accuracy\"])\n",
    "        baseline_model_cm += (result[\"Baseline Confusion Matrix\"] / 30)\n",
    "    print(avg_cm)"
   ]
  },
  {
   "cell_type": "code",
   "execution_count": 12,
   "metadata": {
    "scrolled": false
   },
   "outputs": [
    {
     "data": {
      "image/png": "[encoded data removed]",
      "text/plain": [
       "<Figure size 432x288 with 1 Axes>"
      ]
     },
     "metadata": {
      "needs_background": "light"
     },
     "output_type": "display_data"
    },
    {
     "data": {
      "image/png": "[encoded data removed]",
      "text/plain": [
       "<Figure size 432x288 with 1 Axes>"
      ]
     },
     "metadata": {
      "needs_background": "light"
     },
     "output_type": "display_data"
    },
    {
     "data": {
      "image/png": "[encoded data removed]",
      "text/plain": [
       "<Figure size 432x288 with 1 Axes>"
      ]
     },
     "metadata": {
      "needs_background": "light"
     },
     "output_type": "display_data"
    },
    {
     "data": {
      "image/png": "[encoded data removed]",
      "text/plain": [
       "<Figure size 432x288 with 1 Axes>"
      ]
     },
     "metadata": {
      "needs_background": "light"
     },
     "output_type": "display_data"
    },
    {
     "data": {
      "image/png": "[encoded data removed]",
      "text/plain": [
       "<Figure size 432x288 with 1 Axes>"
      ]
     },
     "metadata": {
      "needs_background": "light"
     },
     "output_type": "display_data"
    },
    {
     "data": {
      "image/png": "[encoded data removed]",
      "text/plain": [
       "<Figure size 1008x1008 with 1 Axes>"
      ]
     },
     "metadata": {},
     "output_type": "display_data"
    }
   ],
   "source": [
    "for e, (cm, name) in enumerate(\n",
    "    zip([baseline_model_cm, RF_model_cm, GB_model_cm, NB_model_cm], \n",
    "        [\"EDR baseline\", \"Random Forest\", \"Gradient Boosting\", \"Naive Bayes\"])):\n",
    "    cm_norm = cm / cm.sum()\n",
    "    ax = sns.heatmap(cm_norm, cmap=\"Reds\", annot=True, fmt=\"f\", cbar=False)\n",
    "    ax.xaxis.set_ticks_position('top')\n",
    "    ax.set_title(name)\n",
    "    plt.show()\n",
    "\n",
    "plt.bar(x=np.arange(cm.shape[0]), height=cm.sum(axis=1))\n",
    "\n",
    "create_violin_plots_model_acc(RF_outcomes.values, GB_outcomes.values, NB_outcomes.values, baseline_accs)"
   ]
  }
 ],
 "metadata": {
  "kernelspec": {
   "display_name": "Python 3",
   "language": "python",
   "name": "python3"
  },
  "language_info": {
   "codemirror_mode": {
    "name": "ipython",
    "version": 3
   },
   "file_extension": ".py",
   "mimetype": "text/x-python",
   "name": "python",
   "nbconvert_exporter": "python",
   "pygments_lexer": "ipython3",
   "version": "3.7.3"
  }
 },
 "nbformat": 4,
 "nbformat_minor": 2
}
